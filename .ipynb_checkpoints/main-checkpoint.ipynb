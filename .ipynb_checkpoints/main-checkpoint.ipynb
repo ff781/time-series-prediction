{
 "cells": [
  {
   "cell_type": "code",
   "execution_count": null,
   "id": "ded0a049",
   "metadata": {},
   "outputs": [],
   "source": [
    "%reload_ext autoreload\n",
    "%autoreload 2\n",
    "from amends import _datetime, _dict, _pandas, text, functional, timer, _torch, _numpy, _warnings\n",
    "from utils.apiwrap import _coingecko\n",
    "import ai\n",
    "from utils.model import stonks\n",
    "import pandas, torch, torchviz\n",
    "import numpy\n",
    "import functools, itertools\n",
    "import warnings\n",
    "warnings.simplefilter(action='once')\n",
    "_warnings.unpatch()"
   ]
  },
  {
   "cell_type": "code",
   "execution_count": null,
   "id": "222dd07b",
   "metadata": {
    "scrolled": false
   },
   "outputs": [],
   "source": [
    "ai.train.main(\n",
    "    clear_cache=0,\n",
    "\n",
    "    model_path='model0',\n",
    "\n",
    "    num_epochs=2**5,\n",
    "    batch_size=2**6,\n",
    "    gradient_clipping=1,\n",
    "    l2_reg_lammda=None, #.0001,\n",
    "    \n",
    "    learning_rate=1e-6,\n",
    "    loss_name='mse',\n",
    "    \n",
    "    # learning_rate=1.1e-6,\n",
    "    # loss_name='simp_nll',\n",
    "\n",
    "    dataset_path='dataset0',\n",
    "    dataset_use_cache=1,\n",
    "    seq_length=60,\n",
    "    n_top_gainers=2**4,\n",
    "    num_samples=2**19,\n",
    "\n",
    "    sanity_check=1,\n",
    "    debug_period=2**60,\n",
    "    debug=1,\n",
    ")"
   ]
  },
  {
   "cell_type": "code",
   "execution_count": null,
   "id": "f0df5822",
   "metadata": {
    "scrolled": true
   },
   "outputs": [],
   "source": [
    "ai.train._['market_data']()['ethereum']"
   ]
  },
  {
   "cell_type": "code",
   "execution_count": null,
   "id": "16f13d62",
   "metadata": {
    "scrolled": false
   },
   "outputs": [],
   "source": [
    "ai.train.make_dataset(dataset_path='test')[0]"
   ]
  },
  {
   "cell_type": "code",
   "execution_count": null,
   "id": "c1d5d5f6",
   "metadata": {},
   "outputs": [],
   "source": [
    "a = _torch.stats(ai.train._['model']().state_dict())"
   ]
  },
  {
   "cell_type": "code",
   "execution_count": null,
   "id": "38106686",
   "metadata": {},
   "outputs": [],
   "source": [
    "b=_torch.module.stats(ai.train._['model'](), level=0)"
   ]
  },
  {
   "cell_type": "code",
   "execution_count": null,
   "id": "e0972641",
   "metadata": {},
   "outputs": [],
   "source": [
    "c=_torch.module.stats(ai.train._['model']().top_gainers_coin_data_m.module, level=0)\n",
    "c"
   ]
  },
  {
   "cell_type": "code",
   "execution_count": null,
   "id": "b9869a93",
   "metadata": {},
   "outputs": [],
   "source": [
    "d=_torch.module.stats(ai.train._['model']().top_losers_coin_data_m.module, level=0)\n",
    "d"
   ]
  },
  {
   "cell_type": "code",
   "execution_count": null,
   "id": "877b9f4e",
   "metadata": {},
   "outputs": [],
   "source": []
  },
  {
   "cell_type": "code",
   "execution_count": null,
   "id": "1760fec6",
   "metadata": {},
   "outputs": [],
   "source": []
  },
  {
   "cell_type": "code",
   "execution_count": null,
   "id": "18ce9763",
   "metadata": {
    "lines_to_next_cell": 2
   },
   "outputs": [],
   "source": [
    "ai.train.example(\n",
    "    'bitcoin',\n",
    "    predict_last=69,\n",
    "    show_predicted_shifted=1,\n",
    "    lookback=500,\n",
    "    scale='log',\n",
    "    viz_architecture=1,\n",
    "    hide_tops=1,\n",
    "    prices_shift=0\n",
    ")"
   ]
  },
  {
   "cell_type": "code",
   "execution_count": null,
   "id": "94334bcf",
   "metadata": {},
   "outputs": [],
   "source": [
    "viz = ai.train.viz()\n",
    "viz"
   ]
  },
  {
   "cell_type": "code",
   "execution_count": null,
   "id": "5d8be0c4",
   "metadata": {},
   "outputs": [],
   "source": [
    "c,m = ai.train._['data'](clear_cache=0)"
   ]
  },
  {
   "cell_type": "code",
   "execution_count": null,
   "id": "6a00c1a4",
   "metadata": {
    "scrolled": false
   },
   "outputs": [],
   "source": [
    "c"
   ]
  },
  {
   "cell_type": "code",
   "execution_count": null,
   "id": "dbb4ed9b",
   "metadata": {},
   "outputs": [],
   "source": [
    "c0, c15 = torch.load(ai.base.p('checkpoint_0')), torch.load(ai.base.p('checkpoint_15'))\n",
    "a = _torch.diff(c0['model_state_dict'], c15['model_state_dict'])"
   ]
  },
  {
   "cell_type": "code",
   "execution_count": null,
   "id": "270a5fb7",
   "metadata": {},
   "outputs": [],
   "source": []
  },
  {
   "cell_type": "code",
   "execution_count": null,
   "id": "23b39c80",
   "metadata": {},
   "outputs": [],
   "source": [
    "m_0 = ai.train.model\n",
    "m_0_0 = m_0.target_coin_meta_module\n",
    "m_1 = ai.train.make_model(4344, 'cuda')\n",
    "m_1_0 = m_1.target_coin_meta_module\n",
    "batch=ai.train.batch_\n",
    "x,y=batch"
   ]
  },
  {
   "cell_type": "code",
   "execution_count": null,
   "id": "5bc37d2b",
   "metadata": {},
   "outputs": [],
   "source": [
    "_torch.flat_reduce(lambda a,b:any([a,b]),x,key_f=_torch.is_any_nan)"
   ]
  },
  {
   "cell_type": "code",
   "execution_count": null,
   "id": "e8a11c92",
   "metadata": {},
   "outputs": [],
   "source": [
    "m_0(x), y"
   ]
  },
  {
   "cell_type": "code",
   "execution_count": null,
   "id": "66e646db",
   "metadata": {},
   "outputs": [],
   "source": [
    "m, m2"
   ]
  },
  {
   "cell_type": "code",
   "execution_count": null,
   "id": "83acb511",
   "metadata": {},
   "outputs": [],
   "source": [
    "m2(x[0])"
   ]
  },
  {
   "cell_type": "code",
   "execution_count": null,
   "id": "c0e7b381",
   "metadata": {},
   "outputs": [],
   "source": []
  },
  {
   "cell_type": "code",
   "execution_count": null,
   "id": "34f84765",
   "metadata": {},
   "outputs": [],
   "source": [
    "list(ai.train.model.state_dict().values())[1]"
   ]
  },
  {
   "cell_type": "code",
   "execution_count": null,
   "id": "f9f91fed",
   "metadata": {},
   "outputs": [],
   "source": [
    "b['nem'][703]"
   ]
  },
  {
   "cell_type": "code",
   "execution_count": null,
   "id": "fd1d4222",
   "metadata": {},
   "outputs": [],
   "source": [
    "timer.start()\n",
    "coin_data = stonks.data.source['coingecko']['info']\n",
    "market_data = stonks.data.source['coingecko']['market']\n",
    "print(timer.stop())"
   ]
  },
  {
   "cell_type": "code",
   "execution_count": null,
   "id": "e4d30207",
   "metadata": {},
   "outputs": [],
   "source": [
    "timer.start()\n",
    "c0 = ai.data.clean_coin_data()\n",
    "c1 = ai.data.transform_coin_data(c0)\n",
    "print(timer.stop())"
   ]
  },
  {
   "cell_type": "code",
   "execution_count": null,
   "id": "a7f4d430",
   "metadata": {},
   "outputs": [],
   "source": [
    "timer.start()\n",
    "m0 = ai.data.clean_market_data()\n",
    "m1 = ai.data.transform_market_data(m0)\n",
    "print(timer.stop())"
   ]
  },
  {
   "cell_type": "code",
   "execution_count": null,
   "id": "428eedd9",
   "metadata": {},
   "outputs": [],
   "source": [
    "cc = ai.data.get_coin_data(1, 0)\n",
    "mm = ai.data.get_market_data(1, 0)"
   ]
  },
  {
   "cell_type": "code",
   "execution_count": null,
   "id": "f29f5fac",
   "metadata": {},
   "outputs": [],
   "source": []
  },
  {
   "cell_type": "code",
   "execution_count": null,
   "id": "01b41e02",
   "metadata": {},
   "outputs": [],
   "source": []
  }
 ],
 "metadata": {
  "jupytext": {
   "cell_metadata_filter": "-all",
   "main_language": "python",
   "notebook_metadata_filter": "-all"
  },
  "kernelspec": {
   "display_name": "Python 3 (ipykernel)",
   "language": "python",
   "name": "python3"
  },
  "language_info": {
   "codemirror_mode": {
    "name": "ipython",
    "version": 3
   },
   "file_extension": ".py",
   "mimetype": "text/x-python",
   "name": "python",
   "nbconvert_exporter": "python",
   "pygments_lexer": "ipython3",
   "version": "3.11.3"
  }
 },
 "nbformat": 4,
 "nbformat_minor": 5
}
