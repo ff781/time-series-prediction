{
 "cells": [
  {
   "cell_type": "code",
   "execution_count": null,
   "id": "656f43b1",
   "metadata": {},
   "outputs": [],
   "source": [
    "%reload_ext autoreload\n",
    "%autoreload 2\n",
    "from amends import text, _dict, _pandas, functional, _torch, _requests, timer\n",
    "from utils.model import stonks\n",
    "import utils.model.stonks.meth\n",
    "from utils.apiwrap import tradeogre, _coingecko\n",
    "import ai, stats, numpy, pandas, torch, pyperclip\n",
    "import pandas as pd"
   ]
  },
  {
   "cell_type": "code",
   "execution_count": null,
   "id": "6ea1f556",
   "metadata": {},
   "outputs": [],
   "source": [
    "c,m = ai.data.get_coin_and_market_data(clear_cache=0, debug=1)"
   ]
  },
  {
   "cell_type": "code",
   "execution_count": null,
   "id": "6d30aac4",
   "metadata": {
    "scrolled": false
   },
   "outputs": [],
   "source": [
    "# timer.start()\n",
    "# c0,m0 = stonks.data.source['coingecko']['info'],stonks.data.source['coingecko']['market']\n",
    "# print(timer.stop())\n",
    "timer.start()\n",
    "c1, m1 = stonks.data.source['coingecko']['info_and_market_intersection']\n",
    "print(timer.stop())"
   ]
  },
  {
   "cell_type": "code",
   "execution_count": null,
   "id": "b2b6fba5",
   "metadata": {
    "scrolled": false
   },
   "outputs": [],
   "source": [
    "c2,m2 = stonks.data.coingecko.intersection(c,m)"
   ]
  },
  {
   "cell_type": "code",
   "execution_count": null,
   "id": "f0a0eb9e",
   "metadata": {},
   "outputs": [],
   "source": []
  },
  {
   "cell_type": "code",
   "execution_count": null,
   "id": "57c100da",
   "metadata": {},
   "outputs": [],
   "source": [
    "ai.v0.mse(d:=torch.arange(3).float(),torch.arange(3).reshape(3,1))"
   ]
  },
  {
   "cell_type": "code",
   "execution_count": null,
   "id": "2477e419",
   "metadata": {
    "scrolled": false
   },
   "outputs": [],
   "source": [
    "vol, pos, weighted, ratio, coinage = stats.volatility_and_positioning_analysis(m1, 16, 16)"
   ]
  },
  {
   "cell_type": "code",
   "execution_count": null,
   "id": "f8086d5e",
   "metadata": {
    "scrolled": false
   },
   "outputs": [],
   "source": [
    "def f(vol, pos, weighted, ratio, coinage):\n",
    "    return vol.mean().sort_values(ascending=0), pos.mean().sort_values(ascending=0)\n",
    "def iqr(data):\n",
    "    Q1 = data.quantile(0.25)\n",
    "    Q3 = data.quantile(0.75)\n",
    "\n",
    "    # Calculate the IQR\n",
    "    IQR = Q3 - Q1\n",
    "\n",
    "    #print(f'{Q1=}',f'{Q3=}')\n",
    "    \n",
    "    return Q1, Q3, IQR\n",
    "def filter_iqr(data, scalar=1.5):\n",
    "    q1, q3, _iqr = iqr(data)\n",
    "    low = q1 - scalar * _iqr\n",
    "    hig = q3 + scalar * _iqr\n",
    "    filtered_data = data[(data>=low) & (data<=hig)]\n",
    "    return filtered_data"
   ]
  },
  {
   "cell_type": "code",
   "execution_count": null,
   "id": "0054138d",
   "metadata": {},
   "outputs": [],
   "source": [
    "v,p = f(vol, pos, weighted, ratio, coinage)"
   ]
  },
  {
   "cell_type": "code",
   "execution_count": null,
   "id": "fefd8489",
   "metadata": {},
   "outputs": [],
   "source": [
    "fv, fp = map(lambda a: filter_iqr(a, 2.5), (v,p))"
   ]
  },
  {
   "cell_type": "code",
   "execution_count": null,
   "id": "6b162924",
   "metadata": {
    "scrolled": false
   },
   "outputs": [],
   "source": [
    "vol['-2'], pos['-2'], weighted['-2'], ratio['-2'], coinage['-2']"
   ]
  },
  {
   "cell_type": "code",
   "execution_count": null,
   "id": "b35b6735",
   "metadata": {},
   "outputs": [],
   "source": [
    "idx = weighted.max().sort_values(ascending=0).index\n",
    "weighted.max()[idx][200:]"
   ]
  },
  {
   "cell_type": "code",
   "execution_count": null,
   "id": "fbdb9dc3",
   "metadata": {},
   "outputs": [],
   "source": [
    "idx1 = ratio.max().sort_values(ascending=0).index\n",
    "ratio.max()[idx1]"
   ]
  },
  {
   "cell_type": "code",
   "execution_count": null,
   "id": "c54749e4",
   "metadata": {},
   "outputs": [],
   "source": []
  },
  {
   "cell_type": "code",
   "execution_count": null,
   "id": "938ad960",
   "metadata": {
    "scrolled": false
   },
   "outputs": [],
   "source": []
  },
  {
   "cell_type": "code",
   "execution_count": null,
   "id": "3fc0727a",
   "metadata": {
    "scrolled": false
   },
   "outputs": [],
   "source": []
  },
  {
   "cell_type": "code",
   "execution_count": null,
   "id": "6a82b127",
   "metadata": {
    "scrolled": false
   },
   "outputs": [],
   "source": [
    "a = _torch.DiskDataset(\n",
    "    dataset_deer='test',\n",
    "    load_f=lambda i,samples: _torch.FullDataset(samples, fill_value=69420, debug=1),\n",
    "    num_per_dataset_samples=10,\n",
    "    num_total_samples=35,\n",
    "    debug=1,\n",
    ")"
   ]
  },
  {
   "cell_type": "code",
   "execution_count": null,
   "id": "9d3e14cc",
   "metadata": {},
   "outputs": [],
   "source": [
    "for i in range(len(a)):\n",
    "    print(a[i])"
   ]
  },
  {
   "cell_type": "code",
   "execution_count": null,
   "id": "9a7f6036",
   "metadata": {},
   "outputs": [],
   "source": [
    "stonks.data.source['coingecko']['market'].values.dtype"
   ]
  },
  {
   "cell_type": "code",
   "execution_count": null,
   "id": "481cb4c2",
   "metadata": {},
   "outputs": [],
   "source": [
    "to_normalize = mm.loc[:, mm.columns.get_level_values(level=1).isin(('market_caps','total_volumes'))].values\n",
    "#to_normalize[:] = numpy.log(to_normalize) - numpy.log(to_normalize.max())"
   ]
  },
  {
   "cell_type": "code",
   "execution_count": null,
   "id": "c02b5d75",
   "metadata": {},
   "outputs": [],
   "source": [
    "_index = mmc.columns.get_level_values(level=1).isin(('market_caps',))\n",
    "#mmc.loc[:,_index] = numpy.log(mmc.loc[:,_index]) - numpy.log(mmc.loc[:,_index].max())"
   ]
  },
  {
   "cell_type": "code",
   "execution_count": null,
   "id": "bb649d5c",
   "metadata": {},
   "outputs": [],
   "source": [
    "mmc.loc[:,_index] = (mmc.loc[:,_index] / numpy.nanmax(mmc.loc[:,_index]))"
   ]
  },
  {
   "cell_type": "code",
   "execution_count": null,
   "id": "3ff5892b",
   "metadata": {},
   "outputs": [],
   "source": [
    "import pandas as pd\n",
    "\n",
    "# Example DataFrame with MultiIndex for columns\n",
    "index = pd.Index(['row1', 'row2', 'row3'])\n",
    "columns = pd.MultiIndex.from_tuples(([1,'a'],[4,'b'],[1,'a'],[4,'b'],[1,'a'],[4,'b'],[1,'a'],[4,'b'],[1,'a'],[4,'b'],))\n",
    "data = pd.DataFrame([[1, 2, 3, 4, 5, 6, 7, 8, 9, 10],\n",
    "                     [11, 12, 13, 14, 15, 16, 17, 18, 19, 20],\n",
    "                     [21, 22, 23, 24, 25, 26, 27, 28, 29, 30]], index=index, columns=columns)"
   ]
  },
  {
   "cell_type": "code",
   "execution_count": null,
   "id": "83268178",
   "metadata": {},
   "outputs": [],
   "source": [
    "data.loc[:,[1,4]].loc[:,([4,1],['a','b'])]"
   ]
  },
  {
   "cell_type": "code",
   "execution_count": null,
   "id": "39efdc78",
   "metadata": {},
   "outputs": [],
   "source": [
    "mmc.loc[:,_index]"
   ]
  },
  {
   "cell_type": "code",
   "execution_count": null,
   "id": "b80f00fe",
   "metadata": {
    "scrolled": true
   },
   "outputs": [],
   "source": [
    "ai.data.r.columns.get_level_values(1).isin(['prices'])"
   ]
  },
  {
   "cell_type": "code",
   "execution_count": null,
   "id": "014cacb8",
   "metadata": {},
   "outputs": [],
   "source": [
    "g = list(a.sort_values(('market_data','total_volume','usd'),ascending=0).id)\n",
    "g"
   ]
  },
  {
   "cell_type": "code",
   "execution_count": null,
   "id": "2e685827",
   "metadata": {},
   "outputs": [],
   "source": [
    "import pyperclip;pyperclip.copy('\\n'.join(map(lambda a:f'https://www.coingecko.com/de/munze/{a}',g)))"
   ]
  },
  {
   "cell_type": "code",
   "execution_count": null,
   "id": "a0f950f2",
   "metadata": {},
   "outputs": [],
   "source": []
  },
  {
   "cell_type": "code",
   "execution_count": null,
   "id": "f656bb99",
   "metadata": {
    "scrolled": false
   },
   "outputs": [],
   "source": []
  },
  {
   "cell_type": "code",
   "execution_count": null,
   "id": "03358bcf",
   "metadata": {},
   "outputs": [],
   "source": [
    "a = _pandas.dumben(stonks.data.source['coingecko']['info'])\n",
    "_pandas.expand_to_binary_vector(a, 'detail_platforms')"
   ]
  },
  {
   "cell_type": "code",
   "execution_count": null,
   "id": "ac046b89",
   "metadata": {},
   "outputs": [],
   "source": [
    "_pandas.aip(a)['detail_platforms'][0]"
   ]
  },
  {
   "cell_type": "code",
   "execution_count": null,
   "id": "cb0a2881",
   "metadata": {},
   "outputs": [],
   "source": []
  }
 ],
 "metadata": {
  "kernelspec": {
   "display_name": "Python 3 (ipykernel)",
   "language": "python",
   "name": "python3"
  },
  "language_info": {
   "codemirror_mode": {
    "name": "ipython",
    "version": 3
   },
   "file_extension": ".py",
   "mimetype": "text/x-python",
   "name": "python",
   "nbconvert_exporter": "python",
   "pygments_lexer": "ipython3",
   "version": "3.11.3"
  }
 },
 "nbformat": 4,
 "nbformat_minor": 5
}
